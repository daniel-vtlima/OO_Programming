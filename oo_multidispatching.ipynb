{
 "cells": [
  {
   "cell_type": "code",
   "execution_count": 1,
   "metadata": {},
   "outputs": [],
   "source": [
    "from abc import ABC, abstractmethod\n",
    "import math"
   ]
  },
  {
   "cell_type": "code",
   "execution_count": 2,
   "metadata": {},
   "outputs": [],
   "source": [
    "class ErrodeIndice(Exception): pass"
   ]
  },
  {
   "cell_type": "code",
   "execution_count": 3,
   "metadata": {},
   "outputs": [],
   "source": [
    "class ErrodeIndiceForaDoIntervalo(Exception): pass"
   ]
  },
  {
   "cell_type": "markdown",
   "metadata": {},
   "source": [
    "## Base Class FormaGeometrica"
   ]
  },
  {
   "cell_type": "code",
   "execution_count": 4,
   "metadata": {},
   "outputs": [],
   "source": [
    "class FormaGeometrica(ABC):\n",
    "    @abstractmethod\n",
    "    def desenhe(self):\n",
    "        raise NotImplementedError()"
   ]
  },
  {
   "cell_type": "markdown",
   "metadata": {},
   "source": [
    "## Implementation of the Formas Classes which contains abstract methods that will be used afterwards"
   ]
  },
  {
   "cell_type": "code",
   "execution_count": 5,
   "metadata": {},
   "outputs": [],
   "source": [
    "class Forma2D(FormaGeometrica, ABC):\n",
    "    def __init__(self, x, y, perimetro, area: float = 1):\n",
    "        self.x: int = x\n",
    "        self.y: int = y\n",
    "        self.area: float = area\n",
    "        self.perimetro: int = perimetro\n",
    "    \n",
    "    def desenhe(self):\n",
    "        print(f\"{type(self).__name__} centrada em {self.x}, {self.y} e área {self.area}.\")\n",
    "        \n",
    "    @abstractmethod\n",
    "    def calcula_perimetro(self):\n",
    "        raise NotImplementedError()\n",
    "    \n",
    "    @abstractmethod\n",
    "    def calcula_area(self):\n",
    "        raise NotImplementedError()"
   ]
  },
  {
   "cell_type": "code",
   "execution_count": 6,
   "metadata": {},
   "outputs": [],
   "source": [
    "class Forma3D(FormaGeometrica, ABC):\n",
    "    def __init__(self, x, y, z, perimetro, volume):\n",
    "        self.x: int = x\n",
    "        self.y: int = y\n",
    "        self.z: int = z\n",
    "        self.volume: float = volume\n",
    "        self.perimetro: int = perimetro\n",
    "    \n",
    "    def desenhe(self):\n",
    "        print(f\"{type(self).__name__} centrada em {self.x}, {self.y}, {self.z} e volume {self.volume}.\")\n",
    "    \n",
    "    @abstractmethod\n",
    "    def calcula_perimetro(self):\n",
    "        raise NotImplementedError()\n",
    "    \n",
    "    @abstractmethod\n",
    "    def calcula_volume(self):\n",
    "        raise NotImplementedError()"
   ]
  },
  {
   "cell_type": "code",
   "execution_count": 7,
   "metadata": {},
   "outputs": [],
   "source": [
    "class Poligono(FormaGeometrica):\n",
    "    def __init__(self, x, y):\n",
    "        self.x: int = x\n",
    "        self.y: int = y\n",
    "    \n",
    "    def desenhe(self):\n",
    "        print(f\"{type(self).__name__} centrada em {self.x}, {self.y}\")\n",
    "    \n",
    "    def calcula_area(self):\n",
    "        raise NotImplementedError()"
   ]
  },
  {
   "cell_type": "markdown",
   "metadata": {},
   "source": [
    "## Implementation of the classes related to Geometric Forms  \n",
    "- Aplication of the multi-dispatching technique to make manage the objects types"
   ]
  },
  {
   "cell_type": "code",
   "execution_count": 8,
   "metadata": {},
   "outputs": [],
   "source": [
    "class Quadrado(Forma2D):\n",
    "    def __init__(self, x, y, lado, perimetro: int = 1, area: float = 1):\n",
    "        super().__init__(x, y, perimetro, area)\n",
    "        self.lado: int = lado\n",
    "    \n",
    "    def calcula_perimetro(self):\n",
    "        self.perimetro = 4 * self.lado\n",
    "        return self.perimetroperimetro\n",
    "    \n",
    "    def calcula_area(self):\n",
    "        self.area = pow(self.lado, 2)\n",
    "        return self.area\n",
    "    \n",
    "    def desenhe(self):\n",
    "        print(f\"{type(self).__name} centrado em {self.x}, {self.y} perimetro {self.perimetro} com área de {self.area}.\")\n",
    "    \n",
    "    # Multi-Dispatching\n",
    "    def compara_quadrado(self, outro_quadrado):\n",
    "        return True\n",
    "    def compara_circulo(self, circulo):\n",
    "        return False\n",
    "    def compara_retangulo(self, retangulo):\n",
    "        return False\n",
    "    def compara_cilindro(self, cilindro):\n",
    "        return False\n",
    "    def compara_esfera(self, esfera):\n",
    "        return False\n",
    "    def compara_cubo(self, cubo):\n",
    "        return False\n",
    "    \n",
    "    def __eq__(self, outro):\n",
    "        return outro.compara_quadrado(self)"
   ]
  },
  {
   "cell_type": "code",
   "execution_count": 9,
   "metadata": {},
   "outputs": [],
   "source": [
    "class Circulo(Forma2D):\n",
    "    def __init__(self, x, y, raio, perimetro: int = 1, area: float = 1):\n",
    "        super().__init__(x, y, perimetro, area)\n",
    "        self.raio: int = raio\n",
    "    \n",
    "    def calcula_perimetro(self):\n",
    "        self.perimetro = 2 * math.pi * self.raio\n",
    "        return self.perimetro\n",
    "    \n",
    "    def calcula_area(self):\n",
    "        self.area = math.pi * pow(raio, 2)\n",
    "        return self.area\n",
    "    \n",
    "    def desenhe(self):\n",
    "        print(f\"{type(self)._name__} centrado em {self.x}, {self.y} com raio {self.raio} perimetro {self.perimetro} e area {self.area}.\")\n",
    "    \n",
    "    # Multi-Dispatching\n",
    "    def compara_quadrado(self, quadrado):\n",
    "        return False\n",
    "    def compara_circulo(self, outro_circulo):\n",
    "        return True\n",
    "    def compara_retangulo(self, retangulo):\n",
    "        return False\n",
    "    def compara_cilindro(self, cilindro):\n",
    "        return False\n",
    "    def compara_esfera(self, esfera):\n",
    "        return False\n",
    "    def compara_cubo(self, cubo):\n",
    "        return False\n",
    "        \n",
    "    def __eq__(self, outro):\n",
    "        return outro.compara_circulo(self)"
   ]
  },
  {
   "cell_type": "code",
   "execution_count": 10,
   "metadata": {},
   "outputs": [],
   "source": [
    "class Retangulo(Forma2D):\n",
    "    def __init__(self, x, y, base, altura, perimetro: int = 1, area: float = 1):\n",
    "        super().__init__(x, y, perimetro, area)\n",
    "        self.base: int = base\n",
    "        self.altura: int = altura\n",
    "    \n",
    "    def calcula_perimetro(self):\n",
    "        self.perimetro = (2 * self.base) + (2 * self.altura)\n",
    "        return self.perimetro\n",
    "    \n",
    "    def calcula_area(self):\n",
    "        self.area = self.base * self.altura\n",
    "        return self.area\n",
    "    \n",
    "    def desenhe(self):\n",
    "        print(f\"{type(self).__name__} centrado em {self.x}, {self.y} com perimetro {self.perimetro} e area {self.area}.\")\n",
    "    \n",
    "    # Multi-Dispatching\n",
    "    def compara_quadrado(self, quadrado):\n",
    "        return False\n",
    "    def compara_circulo(self, circulo):\n",
    "        return False\n",
    "    def compara_retangulo(self, outro_retangulo):\n",
    "        return True\n",
    "    def compara_cilindro(self, cilindro):\n",
    "        return False\n",
    "    def compara_esfera(self, esfera):\n",
    "        return False\n",
    "    def compara_cubo(self, cubo):\n",
    "        return False\n",
    "    \n",
    "    def __eq__(self, outro):\n",
    "        return outro.compara_retangulo(self)"
   ]
  },
  {
   "cell_type": "markdown",
   "metadata": {},
   "source": [
    "## Implementalção das Classes Relacionadas à formas 3D"
   ]
  },
  {
   "cell_type": "code",
   "execution_count": 11,
   "metadata": {},
   "outputs": [],
   "source": [
    "class Cilindro(Forma3D):\n",
    "    def __init__(self, x, y, z, perimetro: int = 1, volume: float = 1, raio: int = 1, altura: int = 1):\n",
    "        super().__init__(x, y, z, perimetro, volume)\n",
    "        self.raio = raio\n",
    "        self.altura = altura\n",
    "        \n",
    "    def calcula_perimetro(self):\n",
    "        self.perimetro = 4 * math.pi * self.raio + 2 * self.altura\n",
    "        return self.perimetro\n",
    "    \n",
    "    def calcula_volume(self):\n",
    "        self.volume = math.pi * pow(self.raio, 2) * self.altura\n",
    "        return self.volume\n",
    "    \n",
    "    def desenhe(self):\n",
    "        print(f\"{type(self).__name__} centrado em {self.x}, {self.y}, {self.z} perimetro {self.perimetro} e volume {self.volume}.\")\n",
    "    \n",
    "    # Multi-Dispatching\n",
    "    def compara_quadrado(self, quadrado):\n",
    "        return False\n",
    "    def compara_circulo(self, circulo):\n",
    "        return False\n",
    "    def compara_retangulo(self, retangulo):\n",
    "        return False\n",
    "    def compara_cilindro(self, outro_cilindro):\n",
    "        return True\n",
    "    def compara_esfera(self, esfera):\n",
    "        return False\n",
    "    def compara_cubo(self, cubo):\n",
    "        return False\n",
    "    \n",
    "    def __eq__(self, outro):\n",
    "        return outro.compara_cilindro(self)"
   ]
  },
  {
   "cell_type": "code",
   "execution_count": 12,
   "metadata": {},
   "outputs": [],
   "source": [
    "class Esfera(Forma3D):\n",
    "    def __init__(self, x, y, z, perimetro: int = 1, volume: float = 1, raio: int = 1):\n",
    "        super().__init__(x, y, z, perimetro, volume)\n",
    "        self.raio = raio\n",
    "        \n",
    "    def calcula_perimetro(self):\n",
    "        self.perimetro = 2 * math.pi * self.raio\n",
    "        return self.perimetro\n",
    "    \n",
    "    def calcula_volume(self):\n",
    "        self.volume = (4 * math.pi * pow(self.raio, 3)) / 3\n",
    "        return self.volume\n",
    "    \n",
    "    def desenhe(self):\n",
    "        print(f\"{type(self).__name__} centrada em {self.x}, {self.y}, {self.z}; perimetro {self.perimetro} e volume {self.volume}.\")\n",
    "   \n",
    "    # Multi-dispatching\n",
    "    def compara_quadrado(self, quadrado):\n",
    "        return False\n",
    "    def compara_circulo(self, circulo):\n",
    "        return False\n",
    "    def compara_retangulo(self, retangulo):\n",
    "        return False\n",
    "    def compara_cilindro(self, cilindro):\n",
    "        return False\n",
    "    def compara_esfera(self, outra_esfera):\n",
    "        return True\n",
    "    def compara_cubo(self, cubo):\n",
    "        return False\n",
    "    \n",
    "    def __eq__(self, outro):\n",
    "        return outro.compara_esfera(self)"
   ]
  },
  {
   "cell_type": "code",
   "execution_count": 13,
   "metadata": {},
   "outputs": [],
   "source": [
    "class Cubo(Forma3D):\n",
    "    def __init__(self, x, y, z, lado, perimetro: int  = 1, volume: float = 1):\n",
    "        super().__init__(x, y, z, perimetro, volume)\n",
    "        self.lado = lado\n",
    "    \n",
    "    def calcula_perimetro(self):\n",
    "        self.perimetro = 12 * self.lado\n",
    "        return self.perimetro\n",
    "        \n",
    "    def calcula_volume(self):\n",
    "        self.volume = pow(self.lado, 3)\n",
    "        return self.volume\n",
    "    \n",
    "    def desenhe(self):\n",
    "        print(f\"{type(self).__name__} centrado em {self.x}, {self.y}, {self.z} perimetro {self.perimetro} e volume {self.volume}.\")\n",
    "    \n",
    "    def compara_quadrado(self, quadrado):\n",
    "        return False\n",
    "    def compara_circulo(self, circulo):\n",
    "        return False\n",
    "    def compara_retangulo(self, retangulo):\n",
    "        return False\n",
    "    def compara_cilindro(self, cilindro):\n",
    "        return False\n",
    "    def compara_esfera(self, esfera):\n",
    "        return False\n",
    "    def compara_cubo(self, outro_cubo):\n",
    "        return True\n",
    "    \n",
    "    def __eq__(self, outro):\n",
    "        return outro.compara_cubo(self)"
   ]
  },
  {
   "cell_type": "markdown",
   "metadata": {},
   "source": [
    "## Implementação da Classe Quadro"
   ]
  },
  {
   "cell_type": "code",
   "execution_count": 14,
   "metadata": {},
   "outputs": [],
   "source": [
    "class Quadro:\n",
    "    def __init__(self, lista_formas: list = []):\n",
    "        self.lista_formas = lista_formas\n",
    "    \n",
    "    def adicionar_forma(self, forma):\n",
    "        self.lista_formas.append(forma)\n",
    "    \n",
    "    def remove_item_index(self, index: int):\n",
    "        if not isinstance(index, int):\n",
    "            raise ErrodeIndice(\"Valor não Inteiro.\")\n",
    "        if index < 0 or index > len(self.lista_formas)-1:\n",
    "            raise ErrodeIndiceForaDoIntervalo(\"Indice fora do Intervalo.\")\n",
    "        self.lista_formas.pop(index)\n",
    "     \n",
    "    def remover(forma_geometrica):\n",
    "        for i, forma in enumerate(self.lista_formas):\n",
    "            if(forma ==  forma_geometrica):\n",
    "                self.remove_item_index(i)\n",
    "                break"
   ]
  },
  {
   "cell_type": "code",
   "execution_count": null,
   "metadata": {},
   "outputs": [],
   "source": []
  },
  {
   "cell_type": "code",
   "execution_count": 15,
   "metadata": {},
   "outputs": [],
   "source": [
    "c1 = Circulo(10, 20, 5)"
   ]
  },
  {
   "cell_type": "code",
   "execution_count": 16,
   "metadata": {},
   "outputs": [],
   "source": [
    "c2 = Circulo(10, 5, 6)"
   ]
  },
  {
   "cell_type": "code",
   "execution_count": 17,
   "metadata": {},
   "outputs": [],
   "source": [
    "q1 = Quadrado(2,4, 5)"
   ]
  },
  {
   "cell_type": "code",
   "execution_count": 18,
   "metadata": {},
   "outputs": [
    {
     "data": {
      "text/plain": [
       "False"
      ]
     },
     "execution_count": 18,
     "metadata": {},
     "output_type": "execute_result"
    }
   ],
   "source": [
    "c1 == q1"
   ]
  },
  {
   "cell_type": "code",
   "execution_count": 19,
   "metadata": {},
   "outputs": [
    {
     "data": {
      "text/plain": [
       "True"
      ]
     },
     "execution_count": 19,
     "metadata": {},
     "output_type": "execute_result"
    }
   ],
   "source": [
    "c1 == c2"
   ]
  },
  {
   "cell_type": "code",
   "execution_count": 20,
   "metadata": {},
   "outputs": [],
   "source": [
    "quadro = Quadro()"
   ]
  },
  {
   "cell_type": "code",
   "execution_count": 22,
   "metadata": {},
   "outputs": [
    {
     "name": "stdout",
     "output_type": "stream",
     "text": [
      "Valor não Inteiro.\n"
     ]
    }
   ],
   "source": [
    "try:\n",
    "    quadro.remove_item_index(\"seis\")\n",
    "    quadro.remove_item_index(5)\n",
    "except ErrodeIndice as e:\n",
    "    print(e)\n",
    "except ErrodeIndiceForaDoIntervalo:\n",
    "    print(\"Contact the system admin: example@example.com\")"
   ]
  },
  {
   "cell_type": "code",
   "execution_count": null,
   "metadata": {},
   "outputs": [],
   "source": []
  }
 ],
 "metadata": {
  "kernelspec": {
   "display_name": "Python 3",
   "language": "python",
   "name": "python3"
  },
  "language_info": {
   "codemirror_mode": {
    "name": "ipython",
    "version": 3
   },
   "file_extension": ".py",
   "mimetype": "text/x-python",
   "name": "python",
   "nbconvert_exporter": "python",
   "pygments_lexer": "ipython3",
   "version": "3.8.5"
  }
 },
 "nbformat": 4,
 "nbformat_minor": 5
}
